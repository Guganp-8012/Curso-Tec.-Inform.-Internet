{
 "cells": [
  {
   "cell_type": "code",
   "execution_count": null,
   "metadata": {},
   "outputs": [],
   "source": [
    "# Faça uma programa que tenha um dicionário com 2 itens existentes depois crie um comando para adicionar\n",
    "# um novo item a esse dicionario e por fim mostrar o dicionário antes e depois da alteração.\n",
    "\n",
    "dici = {\n",
    "  \"marca\": \"logitech\",\n",
    "  \"produto\": \"mouse\"\n",
    "}\n",
    "\n",
    "print(dici)\n",
    "dici[\"modelo\"] = \"g203\"\n",
    "print(dici)"
   ]
  },
  {
   "cell_type": "code",
   "execution_count": null,
   "metadata": {},
   "outputs": [],
   "source": [
    "# Faça um programa que tenha um dicionário com 3 itens crie um comando para\n",
    "# remover um desses itens por fim mostrar o nates e depois da remoção.\n",
    "\n",
    "dici = {\n",
    "  \"marca\": \"logitech\",\n",
    "  \"produto\": \"mouse\",\n",
    "  \"modelo\": \"g203\"\n",
    "}\n",
    "\n",
    "print(dici)\n",
    "dici.pop(\"modelo\")\n",
    "print(dici)"
   ]
  }
 ],
 "metadata": {
  "kernelspec": {
   "display_name": "Python 3",
   "language": "python",
   "name": "python3"
  },
  "language_info": {
   "codemirror_mode": {
    "name": "ipython",
    "version": 3
   },
   "file_extension": ".py",
   "mimetype": "text/x-python",
   "name": "python",
   "nbconvert_exporter": "python",
   "pygments_lexer": "ipython3",
   "version": "3.12.0"
  }
 },
 "nbformat": 4,
 "nbformat_minor": 2
}
