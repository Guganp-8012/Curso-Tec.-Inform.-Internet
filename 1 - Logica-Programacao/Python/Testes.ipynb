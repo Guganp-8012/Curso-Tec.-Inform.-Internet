{
 "cells": [
  {
   "cell_type": "code",
   "execution_count": null,
   "metadata": {},
   "outputs": [],
   "source": [
    "num1 = int(input(\"Digite o primeiro número: \"))\n",
    "num2 = int(input(\"Digite o segundo número: \"))\n",
    "num3 = int(input(\"Digite o terceiro número: \"))\n",
    "\n",
    "if num1 > num2 and num1 > num3:\n",
    "    print(\"O primeiro número é o maior.\")\n",
    "elif num2 > num1 and num2 > num3:\n",
    "    print(\"O segundo número é o maior.\")\n",
    "elif num3 > num1 and num3 > num2:\n",
    "    print(\"O terceiro número é o maior.\")\n",
    "else:\n",
    "    print(\"Os números são iguais ou há empate entre dois ou mais números.\")"
   ]
  },
  {
   "cell_type": "code",
   "execution_count": null,
   "metadata": {},
   "outputs": [],
   "source": [
    "soma = 3+2\n",
    "sub = 3-2\n",
    "for x in [4*4, soma, sub]:\n",
    "  print(x)"
   ]
  },
  {
   "cell_type": "code",
   "execution_count": null,
   "metadata": {},
   "outputs": [],
   "source": [
    "for x in [[1,8,6], \"porta\", {5+8}]:\n",
    "  print(x, type(x))"
   ]
  },
  {
   "cell_type": "code",
   "execution_count": null,
   "metadata": {},
   "outputs": [],
   "source": [
    "for x in range(11):\n",
    "  print(x)"
   ]
  },
  {
   "cell_type": "code",
   "execution_count": null,
   "metadata": {},
   "outputs": [],
   "source": [
    "s = [\"+\", \"-\"]\n",
    "for s in s:\n",
    "    print(s)"
   ]
  },
  {
   "cell_type": "code",
   "execution_count": null,
   "metadata": {},
   "outputs": [],
   "source": [
    "nome = \"Maria\"\n",
    "for letra in nome:\n",
    "    print(letra)"
   ]
  },
  {
   "cell_type": "code",
   "execution_count": null,
   "metadata": {},
   "outputs": [],
   "source": [
    "numeros = [1, 2, 3, 4, 5, 6, 7, 8, 9, 10]\n",
    "\n",
    "for numero in numeros:\n",
    "    if numero % 2 == 0:  # Verifica se o número é par\n",
    "        print(f\"{numero} é par\")\n",
    "    else:\n",
    "        print(f\"{numero} é ímpar\")"
   ]
  },
  {
   "cell_type": "code",
   "execution_count": null,
   "metadata": {},
   "outputs": [],
   "source": [
    "resposta = \"\"\n",
    "while resposta != \"sair\":\n",
    "    resposta = input(\"Digite 'sair' para encerrar: \")"
   ]
  },
  {
   "cell_type": "code",
   "execution_count": null,
   "metadata": {},
   "outputs": [],
   "source": [
    "limite = 100\n",
    "soma = 0\n",
    "while soma < limite:\n",
    "    numero = int(input(\"Digite um número: \"))\n",
    "    soma += numero\n",
    "print(f\"A soma atingiu ou ultrapassou {limite}.\")\n"
   ]
  },
  {
   "cell_type": "code",
   "execution_count": null,
   "metadata": {},
   "outputs": [],
   "source": [
    "condição = 1\n",
    "alguma_condição = 2\n",
    "\n",
    "while condição:\n",
    "    # Código dentro do loop\n",
    "    if alguma_condição:\n",
    "        break  # Sai do loop se a condição for verdadeira\n",
    "    # Continua com o código dentro do loop"
   ]
  },
  {
   "cell_type": "code",
   "execution_count": null,
   "metadata": {},
   "outputs": [],
   "source": [
    "nomes = [\"Alice\", \"Bob\", \"Charlie\", \"David\"]\n",
    "for nome in nomes:\n",
    "    print(nome)"
   ]
  },
  {
   "cell_type": "code",
   "execution_count": null,
   "metadata": {},
   "outputs": [],
   "source": [
    "continuar_jogando = True\n",
    "\n",
    "while continuar_jogando:\n",
    "    # Lógica do jogo\n",
    "    resposta = input(\"Deseja continuar jogando? (sim/não) \")\n",
    "    if resposta.lower() == \"não\":\n",
    "        continuar_jogando = False\n"
   ]
  },
  {
   "cell_type": "code",
   "execution_count": null,
   "metadata": {},
   "outputs": [],
   "source": [
    "idade = 22\n",
    "maior_idade = idade >= 18\n",
    "\n",
    "mensagem = \"Você é maior de idade.\" if maior_idade else \"Você é menor de idade.\"\n",
    "\n",
    "print(mensagem)\n"
   ]
  },
  {
   "cell_type": "code",
   "execution_count": null,
   "metadata": {},
   "outputs": [],
   "source": [
    "entrada = input(\"Digite um número (ou 'infinito' para representar infinito): \")\n",
    "\n",
    "if entrada.lower() == 'infinito':\n",
    "    valor = float('inf')\n",
    "else:\n",
    "    valor = float(entrada)\n",
    "\n",
    "print(\"Valor inserido:\", valor)\n"
   ]
  },
  {
   "cell_type": "code",
   "execution_count": null,
   "metadata": {},
   "outputs": [],
   "source": [
    "# teste com erro\n",
    "y = ('-', float('inf'))\n",
    "x = tuple(input(\"\"))\n",
    "if x == y:\n",
    "    print(\"ok\")\n",
    "else:\n",
    "    print(\"erro\")"
   ]
  },
  {
   "cell_type": "code",
   "execution_count": null,
   "metadata": {},
   "outputs": [],
   "source": [
    "# Defina uma tupla de símbolos e suas funções correspondentes\n",
    "operacoes = {\n",
    "    '+': lambda x, y: x + y,\n",
    "    '-': lambda x, y: x - y,\n",
    "    '*': lambda x, y: x * y,\n",
    "    '/': lambda x, y: x / y if y != 0 else \"Divisão por zero não é permitida\"\n",
    "}\n",
    "\n",
    "while True:\n",
    "    print(\"Selecione a operação:\")\n",
    "    print(\"1. Adição (+)\")\n",
    "    print(\"2. Subtração (-)\")\n",
    "    print(\"3. Multiplicação (*)\")\n",
    "    print(\"4. Divisão (/)\")\n",
    "    print(\"5. Sair\")\n",
    "\n",
    "    escolha = input(\"Digite o número da operação desejada: \")\n",
    "\n",
    "    if escolha == '5':\n",
    "        print(\"Calculadora desligada.\")\n",
    "        break\n",
    "\n",
    "    if escolha not in ['1', '2', '3', '4']:\n",
    "        print(\"Escolha inválida. Por favor, escolha uma operação válida.\")\n",
    "        continue\n",
    "\n",
    "    operacao = list(operacoes.keys())[int(escolha) - 1]  # Obtém o símbolo da operação\n",
    "\n",
    "    num1 = float('inf') if operacao == '/' else float(input(\"Digite o primeiro número: \"))\n",
    "    num2 = float('inf') if operacao == '/' else float(input(\"Digite o segundo número: \"))\n",
    "\n",
    "    resultado = operacoes[operacao](num1, num2)\n",
    "\n",
    "    print(f\"Resultado: {resultado}\")"
   ]
  }
 ],
 "metadata": {
  "kernelspec": {
   "display_name": "Python 3",
   "language": "python",
   "name": "python3"
  },
  "language_info": {
   "codemirror_mode": {
    "name": "ipython",
    "version": 3
   },
   "file_extension": ".py",
   "mimetype": "text/x-python",
   "name": "python",
   "nbconvert_exporter": "python",
   "pygments_lexer": "ipython3",
   "version": "3.12.0"
  }
 },
 "nbformat": 4,
 "nbformat_minor": 2
}
