{
 "cells": [
  {
   "cell_type": "code",
   "execution_count": null,
   "metadata": {},
   "outputs": [],
   "source": [
    "# antonio\n",
    "n1=7\n",
    "n2=8\n",
    "print('resultado', n1+n2)"
   ]
  },
  {
   "cell_type": "code",
   "execution_count": null,
   "metadata": {},
   "outputs": [],
   "source": [
    "# daiane\n",
    "print(10 // 3)"
   ]
  },
  {
   "cell_type": "code",
   "execution_count": null,
   "metadata": {},
   "outputs": [],
   "source": [
    "#rodrigo\n",
    "A = 7\n",
    "B = 5\n",
    "print(A > B)"
   ]
  },
  {
   "cell_type": "code",
   "execution_count": null,
   "metadata": {},
   "outputs": [],
   "source": [
    "#alysson\n",
    "nome = \"Rodrigo\"\n",
    "idade = 60\n",
    "print (f\"olá {nome}, você tem {idade} anos\")"
   ]
  },
  {
   "cell_type": "code",
   "execution_count": null,
   "metadata": {},
   "outputs": [],
   "source": [
    "#mathews\n",
    "x = 9\n",
    "y = 3\n",
    "print (\"o resultado\" , x/y)"
   ]
  },
  {
   "cell_type": "code",
   "execution_count": null,
   "metadata": {},
   "outputs": [],
   "source": [
    "#davi\n",
    "preco = 10.50\n",
    "quantidade = 6\n",
    "print(f\"o resultado é: {preco * quantidade}\")"
   ]
  },
  {
   "cell_type": "code",
   "execution_count": null,
   "metadata": {},
   "outputs": [],
   "source": [
    "#erondina\n",
    "numero = 30\n",
    "numero2 = 30\n",
    "print(numero != numero2)"
   ]
  },
  {
   "cell_type": "code",
   "execution_count": null,
   "metadata": {},
   "outputs": [],
   "source": [
    "#mathews\n",
    "nome = \"davi\"\n",
    "idade = 45\n",
    "altura = 1.90\n",
    "print (f\"meu nome é {nome} silva, tenho {idade} anos e tenho {altura} de altura.\")"
   ]
  },
  {
   "cell_type": "code",
   "execution_count": null,
   "metadata": {},
   "outputs": [],
   "source": [
    "# igor\n",
    "nome = \"Alisson Matheus\"\n",
    "idade = 153\n",
    "peso = 86\n",
    "altura = 1.98\n",
    "print(f\"Olá, sou {nome} tenho {idade} anos, minha altura é {altura}m e peso {peso}Kg\")"
   ]
  },
  {
   "cell_type": "code",
   "execution_count": null,
   "metadata": {},
   "outputs": [],
   "source": [
    "# bianca e suyany\n",
    "nome = \"Josué\"\n",
    "idade = 29\n",
    "peso = 66\n",
    "altura = 1.66\n",
    "print(f\"Você {nome} tem o IMC no valor de {peso/(altura**2)}\")"
   ]
  },
  {
   "cell_type": "code",
   "execution_count": null,
   "metadata": {},
   "outputs": [],
   "source": [
    "# antonio\n",
    "# ' ou \" funcionam igualmente\n",
    "print(f'Resultado: {10>5}')\n",
    "print('Resultado:', 10>5)"
   ]
  },
  {
   "cell_type": "code",
   "execution_count": null,
   "metadata": {},
   "outputs": [],
   "source": [
    "# mathews\n",
    "altura = 4\n",
    "base = 12\n",
    "print(f\"A área quadrada de um ambiente de {altura}m por {base}m é: {base*altura}m\")"
   ]
  },
  {
   "cell_type": "code",
   "execution_count": null,
   "metadata": {},
   "outputs": [],
   "source": [
    "# vitoria\n",
    "base = 3\n",
    "altura = 8\n",
    "print(f\"A área do triângulo de base {base}m por {altura}m é: {int((base*altura)/2)}\")"
   ]
  },
  {
   "cell_type": "code",
   "execution_count": null,
   "metadata": {},
   "outputs": [],
   "source": [
    "# gustavo\n",
    "preco = 20\n",
    "desconto = 0.1\n",
    "quantidade = 4\n",
    "print(f\"O valor da compra de {quantidade} camisas no valor de {preco} reais é: {quantidade*preco} reais\")\n",
    "print(f\"O valor com desconto é: {int((quantidade*preco)-(quantidade*preco)*desconto)} reais\")"
   ]
  },
  {
   "cell_type": "code",
   "execution_count": null,
   "metadata": {},
   "outputs": [],
   "source": [
    "#mauricio\n",
    "nome = input (\"qual é o seu nome\")\n",
    "idade = int (input(\"qual a sua idade\"))\n",
    "nota1 = int (input(\"qual a sua nota\"))\n",
    "nota2 = int (input(\"qual a sua nota\"))\n",
    "media = (nota1+nota2)/2\n",
    "print (f\"meu nome é: {nome}, minha idade è: {idade} e minha media é: {media}\")\n",
    "if media>=7 :\n",
    "    print (\"aprovado\")\n",
    "else:\n",
    "    print (\"reprovado\")"
   ]
  },
  {
   "cell_type": "code",
   "execution_count": null,
   "metadata": {},
   "outputs": [],
   "source": [
    "#suyany\n",
    "nome_produto = input(\"nome do produto:\")\n",
    "valor_produto = float(input(\"valor do produto:\"))\n",
    "print(f\"o nome do produto é: {nome_produto} e o seu valor é: {valor_produto}\")"
   ]
  }
 ],
 "metadata": {
  "kernelspec": {
   "display_name": "Python 3",
   "language": "python",
   "name": "python3"
  },
  "language_info": {
   "codemirror_mode": {
    "name": "ipython",
    "version": 3
   },
   "file_extension": ".py",
   "mimetype": "text/x-python",
   "name": "python",
   "nbconvert_exporter": "python",
   "pygments_lexer": "ipython3",
   "version": "3.12.0"
  }
 },
 "nbformat": 4,
 "nbformat_minor": 2
}
