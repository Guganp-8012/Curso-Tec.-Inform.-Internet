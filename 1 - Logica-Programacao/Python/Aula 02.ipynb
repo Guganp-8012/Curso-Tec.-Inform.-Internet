{
 "cells": [
  {
   "cell_type": "code",
   "execution_count": null,
   "metadata": {},
   "outputs": [],
   "source": [
    "# Entrada de dados // o texto do input é chamado de \"Parâmetro\"\n",
    "\n",
    "nome = (input(\"Digite seu nome: \"))          # Por padrão o input trás texto\n",
    "idade = int(input(\"Digite a sua idade: \"))   # Temos que converter a idade que foi passada em texto para inteiro\n",
    "nota = int(input(\"Digite sua Nota: \"))       # Convertendo também a nota para inteiro\n",
    "print(nome)"
   ]
  },
  {
   "cell_type": "code",
   "execution_count": null,
   "metadata": {},
   "outputs": [],
   "source": [
    "# Entrada de dados // exemplos:\n",
    "\n",
    "ano = int(input(\"Digite seu ano: \"))\n",
    "print(2023-ano)\n",
    "\n",
    "valor_produto = float(input(\"Insira o valor do produto: \"))\n",
    "print(valor_produto)"
   ]
  },
  {
   "cell_type": "code",
   "execution_count": null,
   "metadata": {},
   "outputs": [],
   "source": [
    "# Operadores relacionais\n",
    "\n",
    "a = 10\n",
    "b = 20\n",
    "\n",
    "print(a==b)\n",
    "print(a==b)     # a \"é igual a\" b?\n",
    "print(a>b)      # a \"é maior que\" b?\n",
    "print(a<b)      # a \"é menor que\" b?\n",
    "print(a!=b)     # a \"é diferente a\" b?\n",
    "print(a>=b)     # a \"é maior ou igual que\" b?\n",
    "print(a<=b)     # a \"é menor ou igual que\" b?"
   ]
  },
  {
   "cell_type": "code",
   "execution_count": null,
   "metadata": {},
   "outputs": [],
   "source": [
    "# Operadores lógicos\n",
    "\n",
    "a = 10\n",
    "b = 20\n",
    "\n",
    "print(a==b and 2*a>b)   # a \"é igual a\" b \"e\" 2*a \"é maior que\" b?\n",
    "print(a==b or 2*a>b)    # a \"é igual a\" b \"ou\" 2*a \"é maior que\" b?\n",
    "print(not a>b)          # a \"NÃO é maior que\" b?"
   ]
  },
  {
   "cell_type": "code",
   "execution_count": null,
   "metadata": {},
   "outputs": [],
   "source": [
    "# Operadores lógicos // exemplos: (and/or)\n",
    "\n",
    "var1 = input(\"Insira a 1ª letra: \")\n",
    "var2 = input(\"Insira a 2ª letra: \")\n",
    "\n",
    "if var1 == \"a\" and var2 == \"b\":\n",
    "  print(\"Tudo OK\")\n",
    "else:\n",
    "  print(\"Algo está errado!\")"
   ]
  },
  {
   "cell_type": "code",
   "execution_count": null,
   "metadata": {},
   "outputs": [],
   "source": [
    "# Estrutura Condicional IF\n",
    "\n",
    "idade = 18\n",
    "\n",
    "if idade >= 18:\n",
    "  print(\"De maior\")"
   ]
  },
  {
   "cell_type": "code",
   "execution_count": null,
   "metadata": {},
   "outputs": [],
   "source": [
    "# Estrutura Condicional IF - ELSE // (duas tratativas)\n",
    "\n",
    "nota = 6\n",
    "\n",
    "if nota >= 7:\n",
    "  print(\"Aprovado\")\n",
    "else:\n",
    "  print(\"Reprovado\")"
   ]
  },
  {
   "cell_type": "code",
   "execution_count": null,
   "metadata": {},
   "outputs": [],
   "source": [
    "# Estrutura Condicional IF - ELIF - ELSE // (três tratativas ou mais)\n",
    "\n",
    "media = -1\n",
    "\n",
    "if media==10:\n",
    "  print(\"Aprovado e laureado\")\n",
    "elif media>=9 and media<10:\n",
    "  print(\"Aprovado com honra ao mérito\")\n",
    "elif media>=7 and media<=8:\n",
    "  print(\"Aprovado\")\n",
    "elif media>=6 and media<7:\n",
    "  print(\"Prova final\")\n",
    "elif media>=4 and media<=5:\n",
    "  print(\"Recuperação\")\n",
    "elif media>=11 and media<0:\n",
    "  print(\"Número Inválido\")\n",
    "else:\n",
    "  print(\"Reprovado\")"
   ]
  },
  {
   "cell_type": "code",
   "execution_count": null,
   "metadata": {},
   "outputs": [],
   "source": [
    "# Estrutura Condicional IF - ELIF - ELSE // exemplos:\n",
    "\n",
    "x = input(\"É maior de idade? \")\n",
    "\n",
    "if x==\"sim\" or x==\"Sim\":\n",
    "  print(\"Sim, tenho +18\")\n",
    "elif x==\"não\" or \"Não\" or \"nao\" or \"Nao\":\n",
    "  print(\"Não, tenho -18\")\n",
    "else:\n",
    "  print(\"Ocorreu um erro, responda apenas com Sim ou Não!!\")"
   ]
  }
 ],
 "metadata": {
  "kernelspec": {
   "display_name": "Python 3",
   "language": "python",
   "name": "python3"
  },
  "language_info": {
   "codemirror_mode": {
    "name": "ipython",
    "version": 3
   },
   "file_extension": ".py",
   "mimetype": "text/x-python",
   "name": "python",
   "nbconvert_exporter": "python",
   "pygments_lexer": "ipython3",
   "version": "3.12.0"
  },
  "orig_nbformat": 4
 },
 "nbformat": 4,
 "nbformat_minor": 2
}
