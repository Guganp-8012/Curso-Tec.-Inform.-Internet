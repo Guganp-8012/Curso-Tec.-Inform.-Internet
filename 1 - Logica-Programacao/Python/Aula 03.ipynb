{
 "cells": [
  {
   "cell_type": "code",
   "execution_count": null,
   "metadata": {},
   "outputs": [],
   "source": [
    "# .lower()\n",
    "\n",
    "x = input(\"Escreva BaNaNA\")\n",
    "y = input(\"Convesor automático\").lower()\n",
    "\n",
    "print(x)\n",
    "print(x.lower())\n",
    "print(y)"
   ]
  },
  {
   "cell_type": "code",
   "execution_count": null,
   "metadata": {},
   "outputs": [],
   "source": [
    "# Verificação de carro/valor\n",
    "\n",
    "marca = input(\"Insira a marca: \")\n",
    "modelo = input(\"Insira o modelo: \")\n",
    "\n",
    "if marca == \"toyota\":\n",
    "  if modelo == \"corolla\":\n",
    "    print(\"R$ 154.990,00\")\n",
    "  elif modelo == \"hilux\":\n",
    "    print(\"R$ 273.090,00\")\n",
    "  else:\n",
    "    print(\"Modelo não encontrado\")\n",
    "elif marca == \"honda\":\n",
    "  if modelo == \"civic\":\n",
    "    print(\"R$ 244.900,00\")\n",
    "  elif modelo == \"hrv\":\n",
    "    print(\"R$ 194.800,00\")\n",
    "  else:\n",
    "    print(\"Modelo não encontrado\")\n",
    "elif marca == \"volkswagen\":\n",
    "  if modelo == \"gol\":\n",
    "    print(\"R$ 75.490,00\")\n",
    "  elif modelo == \"polo\":\n",
    "    print(\"R$ 95.990,00\")\n",
    "  else:\n",
    "    print(\"Modelo não encontrado\")\n",
    "elif marca == \"fiat\":\n",
    "  if modelo == \"argo\":\n",
    "    print(\"R$ 79.790,00\")\n",
    "  elif modelo == \"hilux\":\n",
    "    print(\"R$ 99.990,00\")\n",
    "  else:\n",
    "    print(\"Modelo não encontrado\")\n",
    "else:\n",
    "  print(\"Não existe esta marca\")"
   ]
  },
  {
   "cell_type": "code",
   "execution_count": null,
   "metadata": {},
   "outputs": [],
   "source": [
    "# Estrutura Repetição WHILE\n",
    "\n",
    "x = 1 # var global\n",
    "\n",
    "while x <= 10: #v ar local, while assim com if são comandos de containers\n",
    "  print(x)\n",
    "  x = x + 1   # x = x + 1 'ou' x += 1"
   ]
  },
  {
   "cell_type": "code",
   "execution_count": null,
   "metadata": {},
   "outputs": [],
   "source": [
    "# Estrutura Repetição WHILE // exemplos:\n",
    "\n",
    "x = 0\n",
    "\n",
    "while True: # \"enquanto True for verdadeiro\"\n",
    "    print(\"oi\", x)\n",
    "    x = x + 1"
   ]
  },
  {
   "cell_type": "code",
   "execution_count": null,
   "metadata": {},
   "outputs": [],
   "source": [
    "# Estrutura Repetição WHILE // exemplos:\n",
    "\n",
    "while x <=  4:\n",
    "    pass\n",
    "if x == 6:\n",
    "    print(\"adeus\")"
   ]
  },
  {
   "cell_type": "code",
   "execution_count": null,
   "metadata": {},
   "outputs": [],
   "source": [
    "# Antes do intervalo\n",
    "\n",
    "x = 10\n",
    "\n",
    "while x <= 15:\n",
    "  print(\"olá mundo\", x)\n",
    "  x += 1"
   ]
  },
  {
   "cell_type": "code",
   "execution_count": null,
   "metadata": {},
   "outputs": [],
   "source": [
    "# Faça um programa para receber 5 valores e mostrar a soma de todos no final. Usando while.\n",
    "\n",
    "soma = 0\n",
    "contador = 1\n",
    "\n",
    "while contador <= 5:\n",
    "  valor = int(input(\"Insira um número: \"))\n",
    "  soma += valor # soma = soma + valor\n",
    "  contador += 1 # contador = contador + 1\n",
    "\n",
    "print(f\"Resultado: {soma}\")"
   ]
  },
  {
   "cell_type": "code",
   "execution_count": null,
   "metadata": {},
   "outputs": [],
   "source": [
    "# Faça um programa para receber valores infinitamente, porém que o programa encerre quando esse valor for maior que 10.\n",
    "\n",
    "x = 0\n",
    "\n",
    "while x <= 10:\n",
    "    x = int(input(\"Insira um valor:\"))\n",
    "\n",
    "print(\"Encerrado\")"
   ]
  },
  {
   "cell_type": "code",
   "execution_count": null,
   "metadata": {},
   "outputs": [],
   "source": [
    "# Acumulador de valores\n",
    "\n",
    "somatorio = 0\n",
    "contador = 1\n",
    "\n",
    "while contador <= 10:\n",
    "  valor = int(input(\"Digite um valor\"))\n",
    "  somatorio = somatorio + valor\n",
    "  contador = contador + 1\n",
    "\n",
    "print(f\"O somatório total dos valores é de: {somatorio}\") # não vai rodar porque deve estar dentro do while"
   ]
  },
  {
   "cell_type": "code",
   "execution_count": null,
   "metadata": {},
   "outputs": [],
   "source": [
    "# Interrupção da execução do WHILE\n",
    "\n",
    "somatorio = 0\n",
    "contador = 1\n",
    "\n",
    "while contador <= 10:\n",
    "  valor = int(input(\"Digite um valor\"))\n",
    "  if valor == 0:\n",
    "    break\n",
    "  somatorio = somatorio + valor\n",
    "  contador = contador + 1\n",
    "\n",
    "print(f\"O somatório total dos valores é de: {somatorio}\")"
   ]
  },
  {
   "cell_type": "code",
   "execution_count": null,
   "metadata": {},
   "outputs": [],
   "source": [
    "# Interrupção da execução do WHILE // exemplos:\n",
    "\n",
    "x = 1\n",
    "\n",
    "while x <= 2:\n",
    "    print(\"primeiro\")\n",
    "    x = x + 1\n",
    "while x >= 3:\n",
    "    print(\"segundo\")\n",
    "    x = x + 1\n",
    "    if x == 5:\n",
    "        print(\"encerrou\")\n",
    "        break"
   ]
  },
  {
   "cell_type": "code",
   "execution_count": null,
   "metadata": {},
   "outputs": [],
   "source": [
    "# continue // exemplo incompleto\n",
    "\n",
    "somatorio = 0\n",
    "contador = 1\n",
    "\n",
    "while contador <= 10:\n",
    "  valor = int(input(\"Digite um valor\"))\n",
    "  if valor > 10:\n",
    "    continue\n",
    "  somatorio = somatorio + valor\n",
    "  contador = contador + 1\n",
    "\n",
    "print(f\"O somatório total dos valores é de: {somatorio}\")"
   ]
  },
  {
   "cell_type": "code",
   "execution_count": null,
   "metadata": {},
   "outputs": [],
   "source": [
    "# continue\n",
    "\n",
    "for i in range(1, 6):\n",
    "    if i == 3:\n",
    "        continue  # Ignora a iteração quando i é igual a 3\n",
    "    print(f\"Valor de i: {i}\")"
   ]
  }
 ],
 "metadata": {
  "kernelspec": {
   "display_name": "Python 3",
   "language": "python",
   "name": "python3"
  },
  "language_info": {
   "codemirror_mode": {
    "name": "ipython",
    "version": 3
   },
   "file_extension": ".py",
   "mimetype": "text/x-python",
   "name": "python",
   "nbconvert_exporter": "python",
   "pygments_lexer": "ipython3",
   "version": "3.12.0"
  },
  "orig_nbformat": 4
 },
 "nbformat": 4,
 "nbformat_minor": 2
}
