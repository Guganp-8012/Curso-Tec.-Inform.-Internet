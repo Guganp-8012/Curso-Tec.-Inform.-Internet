{
 "cells": [
  {
   "cell_type": "code",
   "execution_count": null,
   "metadata": {},
   "outputs": [],
   "source": [
    "# Questão 01\n",
    "\n",
    "num = int(input(\"Insira um número:\"))\n",
    "antecessor = num - 1\n",
    "sucessor = num + 1\n",
    "print(\"O número é\", num)\n",
    "print(\"Seu antecessor:\", antecessor)\n",
    "print(\"Seu sucessor:\", sucessor)"
   ]
  },
  {
   "cell_type": "code",
   "execution_count": null,
   "metadata": {},
   "outputs": [],
   "source": [
    "# Questão 01.1 (otimizado)\n",
    "\n",
    "num = int(input(\"Insira um número:\"))\n",
    "print(\"O número é\", num)\n",
    "print(\"Seu antecessor:\", num - 1)\n",
    "print(\"Seu sucessor:\", num + 1)"
   ]
  },
  {
   "cell_type": "code",
   "execution_count": null,
   "metadata": {},
   "outputs": [],
   "source": [
    "# Questão 02\n",
    "\n",
    "cont = 0\n",
    "media = 0\n",
    "\n",
    "while cont < 3:\n",
    "  cont += 1\n",
    "  nota = int(input(f\"Insira a nota {cont}\"))\n",
    "  media += nota\n",
    "print(\"Média:\", media//3)"
   ]
  },
  {
   "cell_type": "code",
   "execution_count": null,
   "metadata": {},
   "outputs": [],
   "source": [
    "# Questão 03 // Ex:  4x1 = 4  4x2 = 8  4x3 = 12\n",
    "\n",
    "cont = 0\n",
    "\n",
    "while cont <= 10:\n",
    "  print(f\"4 x {cont} = {cont*4}\")\n",
    "  cont += 1"
   ]
  },
  {
   "cell_type": "code",
   "execution_count": null,
   "metadata": {},
   "outputs": [],
   "source": [
    "# Questão 04 // (DICA: U$ 1,00 custa R$ 4,90)\n",
    "\n",
    "real = float(input(\"Insira o valor monetário:\"))\n",
    "print(f\"R$ {real} são U$ {real/4.9}\") # dolar = real/4.9"
   ]
  }
 ],
 "metadata": {
  "kernelspec": {
   "display_name": "Python 3",
   "language": "python",
   "name": "python3"
  },
  "language_info": {
   "codemirror_mode": {
    "name": "ipython",
    "version": 3
   },
   "file_extension": ".py",
   "mimetype": "text/x-python",
   "name": "python",
   "nbconvert_exporter": "python",
   "pygments_lexer": "ipython3",
   "version": "3.12.0"
  }
 },
 "nbformat": 4,
 "nbformat_minor": 2
}
