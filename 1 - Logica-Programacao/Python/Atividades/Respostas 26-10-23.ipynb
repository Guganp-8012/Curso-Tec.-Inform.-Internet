{
 "cells": [
  {
   "cell_type": "code",
   "execution_count": null,
   "metadata": {},
   "outputs": [],
   "source": [
    "# Questão 01\n",
    "\n",
    "print(f\"3+5={3+5}\")"
   ]
  },
  {
   "cell_type": "code",
   "execution_count": null,
   "metadata": {},
   "outputs": [],
   "source": [
    "# Questão 02\n",
    "\n",
    "print(\"Olá, mundo!\")"
   ]
  },
  {
   "cell_type": "code",
   "execution_count": null,
   "metadata": {},
   "outputs": [],
   "source": [
    "# Questão 03\n",
    "\n",
    "idade = 30\n",
    "print(idade)"
   ]
  },
  {
   "cell_type": "code",
   "execution_count": null,
   "metadata": {},
   "outputs": [],
   "source": [
    "# Questão 04\n",
    "\n",
    "numero = int(input(\"Insira um valor: \"))\n",
    "print(numero)"
   ]
  },
  {
   "cell_type": "code",
   "execution_count": null,
   "metadata": {},
   "outputs": [],
   "source": [
    "# Questão 05\n",
    "\n",
    "nome = \"Alice\"\n",
    "print(f\"Olá, {nome}!\")"
   ]
  },
  {
   "cell_type": "code",
   "execution_count": null,
   "metadata": {},
   "outputs": [],
   "source": [
    "# Questão 06\n",
    "\n",
    "print(7 > 3)"
   ]
  },
  {
   "cell_type": "code",
   "execution_count": null,
   "metadata": {},
   "outputs": [],
   "source": [
    "# Questão 07\n",
    "\n",
    "idade = int(input(\"Insira sua idade\"))\n",
    "if idade >= 18:\n",
    "    print(f\"Sua idade é: {idade}\")\n",
    "    print(\"Você é maior de idade\")\n",
    "elif idade < 1:\n",
    "    print(\"Dado inválido!\")\n",
    "else:\n",
    "    print(f\"Sua idade é: {idade}\")\n",
    "    print(\"Você é menor de idade\")"
   ]
  },
  {
   "cell_type": "code",
   "execution_count": null,
   "metadata": {},
   "outputs": [],
   "source": [
    "# Questão 08\n",
    "\n",
    "numero = int(input(\"Insira um número: \"))\n",
    "if numero >= 0:\n",
    "    print(\"O número inserido é postivo\")\n",
    "else:\n",
    "    print(\"O número inserido é negativo\")"
   ]
  },
  {
   "cell_type": "code",
   "execution_count": null,
   "metadata": {},
   "outputs": [],
   "source": [
    "# Questão 09 // (média 6)\n",
    "# dica: tratativa, coloque números maiores primeiro\n",
    "\n",
    "nota = int(input(\"Insira o valor da nota: \"))\n",
    "if nota > 6 and nota < 11:\n",
    "    print(\"Sua nota está acima da média, logo está aprovada\")\n",
    "elif nota == 6:\n",
    "    print(\"Sua nota está na média, logo está aprovada\")\n",
    "elif nota < 6 and nota >= 0:\n",
    "    print(\"Sua nota está abaixo da média, logo está reprovada\")\n",
    "else:\n",
    "    print(\"Dado inválido!\")\n"
   ]
  },
  {
   "cell_type": "code",
   "execution_count": null,
   "metadata": {},
   "outputs": [],
   "source": [
    "# Questão 10\n",
    "\n",
    "idade = 25\n",
    "if idade >= 18:\n",
    "    print(\"Maior de idade\")\n",
    "elif idade < 1:\n",
    "    print(\"Dado inválido!\")\n",
    "else:\n",
    "    print(\"Menor de idade\")"
   ]
  }
 ],
 "metadata": {
  "kernelspec": {
   "display_name": "Python 3",
   "language": "python",
   "name": "python3"
  },
  "language_info": {
   "codemirror_mode": {
    "name": "ipython",
    "version": 3
   },
   "file_extension": ".py",
   "mimetype": "text/x-python",
   "name": "python",
   "nbconvert_exporter": "python",
   "pygments_lexer": "ipython3",
   "version": "3.12.0"
  }
 },
 "nbformat": 4,
 "nbformat_minor": 2
}
