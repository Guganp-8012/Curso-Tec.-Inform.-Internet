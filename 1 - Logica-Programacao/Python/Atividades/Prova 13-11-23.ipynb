{
 "cells": [
  {
   "cell_type": "code",
   "execution_count": null,
   "metadata": {},
   "outputs": [],
   "source": [
    "# Questão 01\n",
    "\n",
    "x, y = 6, 2\n",
    "\n",
    "print(x, \"-\", y, \"=\", x-y)\n",
    "print(x, \"/\", y, \"=\", x/y)"
   ]
  },
  {
   "cell_type": "code",
   "execution_count": null,
   "metadata": {},
   "outputs": [],
   "source": [
    "# Questão 02\n",
    "\n",
    "frutas = [\"laranja\", \"banana\", \"morango\", \"mamão\"]\n",
    "\n",
    "for fruta in frutas:\n",
    "  print(fruta)"
   ]
  },
  {
   "cell_type": "code",
   "execution_count": null,
   "metadata": {},
   "outputs": [],
   "source": [
    "# Questão 03\n",
    "\n",
    "dicio = {\n",
    "  \"nome\" : \"21 anos\",\n",
    "  \"altura\" : \"1,79m\",\n",
    "  \"peso\" : \"57,5Kg\"\n",
    "}\n",
    "\n",
    "print(dicio[\"altura\"])"
   ]
  },
  {
   "cell_type": "code",
   "execution_count": null,
   "metadata": {},
   "outputs": [],
   "source": [
    "# Questão 04\n",
    "\n",
    "altura = 1.82\n",
    "\n",
    "if altura >= 1.40:\n",
    "  print(\"Você tem altura suficiente para entrar no brinquedo\")\n",
    "else:\n",
    "  print(\"Você não tem a altura mínima para entrar nesse brinquedo\")"
   ]
  },
  {
   "cell_type": "code",
   "execution_count": null,
   "metadata": {},
   "outputs": [],
   "source": [
    "# Questão 05\n",
    "\n",
    "temperatura = 63\n",
    "\n",
    "if temperatura >= 0 and temperatura <= 35:\n",
    "  print(\"Temperatura Baixa\")\n",
    "elif temperatura >= 36 and temperatura <= 57:\n",
    "  print(\"Temperatura Mediana\")\n",
    "elif temperatura >= 58 and temperatura <= 72:\n",
    "  print(\"Temperatura Alta\")\n",
    "elif temperatura >= 73:\n",
    "  print(\"Temperatura Extrema\")"
   ]
  },
  {
   "cell_type": "code",
   "execution_count": null,
   "metadata": {},
   "outputs": [],
   "source": [
    "# Questão 06\n",
    "\n",
    "cont = 4\n",
    "\n",
    "while cont <= 12:\n",
    "  print(cont)\n",
    "  cont += 1"
   ]
  },
  {
   "cell_type": "code",
   "execution_count": null,
   "metadata": {},
   "outputs": [],
   "source": [
    "# Questão 07\n",
    "\n",
    "for numero in [1, 2, 3, 4, 5, 6, 7, 8, 9, 10]:\n",
    "  if numero % 2 != 0:\n",
    "    print(numero)"
   ]
  },
  {
   "cell_type": "code",
   "execution_count": null,
   "metadata": {},
   "outputs": [],
   "source": [
    "# Questão 08\n",
    "\n",
    "frutas = [\"cáqui\", \"amora\", \"limão\", \"uva\"]\n",
    "\n",
    "print(frutas[0])\n",
    "print(frutas[-1])"
   ]
  },
  {
   "cell_type": "code",
   "execution_count": null,
   "metadata": {},
   "outputs": [],
   "source": [
    "# Questão 09\n",
    "\n",
    "for x in range(-10, 0):\n",
    "  print(x)"
   ]
  },
  {
   "cell_type": "code",
   "execution_count": null,
   "metadata": {},
   "outputs": [],
   "source": [
    "# Questão 10\n",
    "\n",
    "lanches = [\"bomba\", \"joelho\", \"coxinha\", \"torta\", \"bolo\"]\n",
    "\n",
    "for lanche in lanches:\n",
    "  if lanche == 'coxinha':\n",
    "    print(\"Tem coxinha :)\")"
   ]
  }
 ],
 "metadata": {
  "kernelspec": {
   "display_name": "Python 3",
   "language": "python",
   "name": "python3"
  },
  "language_info": {
   "codemirror_mode": {
    "name": "ipython",
    "version": 3
   },
   "file_extension": ".py",
   "mimetype": "text/x-python",
   "name": "python",
   "nbconvert_exporter": "python",
   "pygments_lexer": "ipython3",
   "version": "3.12.0"
  }
 },
 "nbformat": 4,
 "nbformat_minor": 2
}
