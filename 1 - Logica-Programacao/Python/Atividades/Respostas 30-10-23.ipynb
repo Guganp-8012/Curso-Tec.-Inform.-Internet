{
 "cells": [
  {
   "cell_type": "code",
   "execution_count": null,
   "metadata": {},
   "outputs": [],
   "source": [
    "# Questão 01\n",
    "\n",
    "n1 = int(input(\"Insira o primeiro número: \"))\n",
    "n2 = int(input(\"Insira o segundo número: \"))\n",
    "print(n1+n2)"
   ]
  },
  {
   "cell_type": "code",
   "execution_count": null,
   "metadata": {},
   "outputs": [],
   "source": [
    "# Questão 02\n",
    "\n",
    "fruta = \"banana\"\n",
    "suposicao = input(\"Tente adivinhar a fruta :P\").lower()\n",
    "if suposicao == fruta:\n",
    "    print(\"Correto!\")\n",
    "else:\n",
    "    print(\"Incorreto!\")"
   ]
  },
  {
   "cell_type": "code",
   "execution_count": null,
   "metadata": {},
   "outputs": [],
   "source": [
    "# Questão 03\n",
    "\n",
    "numero = int(input(\"Insira um número: \"))\n",
    "if numero >= 1 and numero <= 10:\n",
    "    print(\"Dentro do intervalo\")\n",
    "else:\n",
    "    print(\"Fora do intervalo\")"
   ]
  },
  {
   "cell_type": "code",
   "execution_count": null,
   "metadata": {},
   "outputs": [],
   "source": [
    "# Questão 04\n",
    "\n",
    "saldo = 100.0\n",
    "\n",
    "if saldo > 0:\n",
    "    print(\"Saldo positivo\")\n",
    "elif saldo == 0:\n",
    "    print(\"Saldo zero\")\n",
    "else:\n",
    "    print(\"Saldo negativo\")"
   ]
  },
  {
   "cell_type": "code",
   "execution_count": null,
   "metadata": {},
   "outputs": [],
   "source": [
    "# Questão 05 // Fórmula -> F = C * 9/5 + 32\n",
    "\n",
    "temperatura = 25.5\n",
    "print(f\"{temperatura}°C é igual {(temperatura*9)/5 + 32}°F\")"
   ]
  },
  {
   "cell_type": "code",
   "execution_count": null,
   "metadata": {},
   "outputs": [],
   "source": [
    "# Questão 06\n",
    "\n",
    "numero = int(input(\"Insira um número:\"))\n",
    "if numero % 2 == 0:\n",
    "    print(\"Par\")\n",
    "else:\n",
    "    print(\"Ímpar\")"
   ]
  }
 ],
 "metadata": {
  "kernelspec": {
   "display_name": "Python 3",
   "language": "python",
   "name": "python3"
  },
  "language_info": {
   "codemirror_mode": {
    "name": "ipython",
    "version": 3
   },
   "file_extension": ".py",
   "mimetype": "text/x-python",
   "name": "python",
   "nbconvert_exporter": "python",
   "pygments_lexer": "ipython3",
   "version": "3.12.0"
  }
 },
 "nbformat": 4,
 "nbformat_minor": 2
}
