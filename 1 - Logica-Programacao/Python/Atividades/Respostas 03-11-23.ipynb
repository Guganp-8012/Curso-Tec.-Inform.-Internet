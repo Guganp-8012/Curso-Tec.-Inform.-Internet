{
 "cells": [
  {
   "cell_type": "code",
   "execution_count": null,
   "metadata": {},
   "outputs": [],
   "source": [
    "# Questão 01 // (DICA: Usar o While e o If)\n",
    "\n",
    "total = 0\n",
    "contador = 0\n",
    "\n",
    "while contador < 5:\n",
    "  contador += 1\n",
    "  valor = int(input(\"Insira um número: \"))\n",
    "  #print(valor) // debug\n",
    "  if valor % 2 == 0:\n",
    "    total += valor\n",
    "\n",
    "print(f\"Resultado: {total}\")"
   ]
  },
  {
   "cell_type": "code",
   "execution_count": null,
   "metadata": {},
   "outputs": [],
   "source": [
    "# Questão 02 // (DICA: Use If para verificar se é maior e armarzenar em uma variável global)\n",
    "\n",
    "maior = 0\n",
    "contador = 1\n",
    "\n",
    "while contador <= 5:\n",
    "  valor = int(input(\"Insira um número: \"))\n",
    "  #print(valor) // debug\n",
    "  if valor > maior:\n",
    "    maior = valor\n",
    "  contador += 1\n",
    "\n",
    "print(f\"O maior é: {maior}\")"
   ]
  },
  {
   "cell_type": "code",
   "execution_count": null,
   "metadata": {},
   "outputs": [],
   "source": [
    "# Questão 03 // (sem interação) (DICA: Use Wilhe para percorrer e If para imprimir)\n",
    "\n",
    "cont = 0\n",
    "\n",
    "while cont <= 10:    # se o contador antes tem que tirar o igual\n",
    "  if cont % 2 != 0:\n",
    "    print(cont)\n",
    "  cont += 1"
   ]
  },
  {
   "cell_type": "code",
   "execution_count": null,
   "metadata": {},
   "outputs": [],
   "source": [
    "# Questão 04 // Ex: Se o usuário digitou 5, o programa vai imprimir: 1,2,3,4,5 (DICA: Use o While)\n",
    "\n",
    "cont = 0\n",
    "limite = int(input(\"Insira o número final:\"))\n",
    "\n",
    "while cont < limite:\n",
    "  cont += 1\n",
    "  print(cont)"
   ]
  }
 ],
 "metadata": {
  "kernelspec": {
   "display_name": "Python 3",
   "language": "python",
   "name": "python3"
  },
  "language_info": {
   "codemirror_mode": {
    "name": "ipython",
    "version": 3
   },
   "file_extension": ".py",
   "mimetype": "text/x-python",
   "name": "python",
   "nbconvert_exporter": "python",
   "pygments_lexer": "ipython3",
   "version": "3.12.0"
  }
 },
 "nbformat": 4,
 "nbformat_minor": 2
}
