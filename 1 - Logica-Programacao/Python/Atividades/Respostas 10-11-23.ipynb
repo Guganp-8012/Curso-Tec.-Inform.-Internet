{
 "cells": [
  {
   "cell_type": "code",
   "execution_count": null,
   "metadata": {},
   "outputs": [],
   "source": [
    "# Questão 01\n",
    "\n",
    "a, b = 2, 3\n",
    "\n",
    "print(a, \"+\", b, \"=\", a+b)\n",
    "print(a, \"x\", b, \"=\", a*b)"
   ]
  },
  {
   "cell_type": "code",
   "execution_count": null,
   "metadata": {},
   "outputs": [],
   "source": [
    "# Questão 02\n",
    "\n",
    "for cor in [\"azul\", \"laranja\", \"vermelho\", \"verde\", \"rosa\"]:\n",
    "  print(cor)"
   ]
  },
  {
   "cell_type": "code",
   "execution_count": null,
   "metadata": {},
   "outputs": [],
   "source": [
    "# Questão 03\n",
    "\n",
    "dicio = {\n",
    "  \"Brasil\": \"Brasília\",\n",
    "  \"Itália\": \"Roma\",\n",
    "  \"França\": \"Paris\",\n",
    "  \"Japão\": \"Tokyo\"\n",
    "}\n",
    "\n",
    "x = dicio[\"Brasil\"]\n",
    "print(x)"
   ]
  },
  {
   "cell_type": "code",
   "execution_count": null,
   "metadata": {},
   "outputs": [],
   "source": [
    "# Questão 04\n",
    "\n",
    "idade = 32\n",
    "\n",
    "if idade >= 18:\n",
    "  print(\"Essa pessoa é maior de idade\")"
   ]
  },
  {
   "cell_type": "code",
   "execution_count": null,
   "metadata": {},
   "outputs": [],
   "source": [
    "# Questão 05\n",
    "\n",
    "hora = 22\n",
    "\n",
    "if hora >= 0 and hora <= 5:\n",
    "  print(\"Boa Madrugada\")\n",
    "elif hora >= 6 and hora <= 11:\n",
    "  print(\"Bom dia\")\n",
    "elif hora >= 12 and hora <= 17:\n",
    "  print(\"Boa tarde\")\n",
    "else:\n",
    "  print(\"Boa noite\")"
   ]
  },
  {
   "cell_type": "code",
   "execution_count": null,
   "metadata": {},
   "outputs": [],
   "source": [
    "# Questão 06\n",
    "\n",
    "cont = 1\n",
    "\n",
    "while cont <= 5:\n",
    "  print(cont)\n",
    "  cont += 1"
   ]
  },
  {
   "cell_type": "code",
   "execution_count": null,
   "metadata": {},
   "outputs": [],
   "source": [
    "# Questão 07\n",
    "for par in range(1, 11):\n",
    "  if par % 2 == 0:\n",
    "    print(par)"
   ]
  },
  {
   "cell_type": "code",
   "execution_count": null,
   "metadata": {},
   "outputs": [],
   "source": [
    "# Questão 08\n",
    "\n",
    "frutas = [\"banana\", \"maçã\", \"cereja\", \"pera\"]\n",
    "\n",
    "print(\"Primeira fruta:\", frutas[0])\n",
    "print(\"Última fruta:\", frutas[len(frutas)-1])"
   ]
  },
  {
   "cell_type": "code",
   "execution_count": null,
   "metadata": {},
   "outputs": [],
   "source": [
    "# Questão 09\n",
    "\n",
    "for numero in range(1, 11):\n",
    "    print(numero)"
   ]
  },
  {
   "cell_type": "code",
   "execution_count": null,
   "metadata": {},
   "outputs": [],
   "source": [
    "# Questão 10\n",
    "\n",
    "animais = [\"cachorro\", \"hamster\", \"porco\", \"gato\", \"galinha\"]\n",
    "\n",
    "if 'gato' in animais:\n",
    "  print(\"Gato está na lista de animais\")"
   ]
  },
  {
   "cell_type": "code",
   "execution_count": null,
   "metadata": {},
   "outputs": [],
   "source": [
    "# Questão 11\n",
    "\n",
    "cont = 1\n",
    "\n",
    "while cont <= 10:\n",
    "  print(cont)\n",
    "  if cont == 5:\n",
    "    break\n",
    "  cont += 1"
   ]
  },
  {
   "cell_type": "code",
   "execution_count": null,
   "metadata": {},
   "outputs": [],
   "source": [
    "# Questão 12\n",
    "\n",
    "numero = 13\n",
    "\n",
    "if numero % 2 == 0:\n",
    "  print(\"Par\")\n",
    "else:\n",
    "  print(\"Ímpar\")"
   ]
  },
  {
   "cell_type": "code",
   "execution_count": null,
   "metadata": {},
   "outputs": [],
   "source": [
    "# Questão 13\n",
    "\n",
    "semana = [\"Domingo\", \"Segunda-feira\", \"Terça-feira\", \"Quarta-feira\", \"Quinta-feira\", \"Sexta-feira\", \"Sábado\"]\n",
    "tarefas = [\"Descansar\", \"Lavar louça\", \"Limpar a casa\", \"Fazer compras\", \"Estudar\", \"Banho no cachorro\", \"Exercitar-se\"]\n",
    "\n",
    "for n in range(len(semana)): # range(0, 7)\n",
    "  print(\"•\", semana[n], \":\", tarefas[n])"
   ]
  }
 ],
 "metadata": {
  "kernelspec": {
   "display_name": "Python 3",
   "language": "python",
   "name": "python3"
  },
  "language_info": {
   "codemirror_mode": {
    "name": "ipython",
    "version": 3
   },
   "file_extension": ".py",
   "mimetype": "text/x-python",
   "name": "python",
   "nbconvert_exporter": "python",
   "pygments_lexer": "ipython3",
   "version": "3.12.0"
  }
 },
 "nbformat": 4,
 "nbformat_minor": 2
}
