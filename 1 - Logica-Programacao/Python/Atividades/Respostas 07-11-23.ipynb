{
 "cells": [
  {
   "cell_type": "code",
   "execution_count": null,
   "metadata": {},
   "outputs": [],
   "source": [
    "# Questão 01\n",
    "\n",
    "for numeros in [1, 2, 3, 4, 5]:\n",
    "  print(numeros)"
   ]
  },
  {
   "cell_type": "code",
   "execution_count": null,
   "metadata": {},
   "outputs": [],
   "source": [
    "# Questão 01 - versão 2.0\n",
    "\n",
    "for numeros in range(1, 6):\n",
    "  print(numeros)"
   ]
  },
  {
   "cell_type": "code",
   "execution_count": null,
   "metadata": {},
   "outputs": [],
   "source": [
    "# Questão 02\n",
    "\n",
    "for numeros in range(0, 11, 2):\n",
    "  print(numeros)"
   ]
  },
  {
   "cell_type": "code",
   "execution_count": null,
   "metadata": {},
   "outputs": [],
   "source": [
    "# Questão 03\n",
    "\n",
    "for frutas in [\"maça\", \"laranja\", \"uva\"]:\n",
    "  print(frutas)"
   ]
  },
  {
   "cell_type": "code",
   "execution_count": null,
   "metadata": {},
   "outputs": [],
   "source": [
    "# Questão 04\n",
    "\n",
    "for pares in range(10, 21, 2):\n",
    "    print(pares)"
   ]
  },
  {
   "cell_type": "code",
   "execution_count": null,
   "metadata": {},
   "outputs": [],
   "source": [
    "# Questão 04 - versão 2.0\n",
    "\n",
    "for pares in range(10, 21):\n",
    "  if pares % 2 == 0:\n",
    "    print(pares)"
   ]
  },
  {
   "cell_type": "code",
   "execution_count": null,
   "metadata": {},
   "outputs": [],
   "source": [
    "# Questão 05\n",
    "\n",
    "for numeros in range(1, 11):\n",
    "  if numeros != 7:\n",
    "    print(numeros)"
   ]
  },
  {
   "cell_type": "code",
   "execution_count": null,
   "metadata": {},
   "outputs": [],
   "source": [
    "# Questão 06\n",
    "\n",
    "nome = \"abacaxi\"\n",
    "\n",
    "for letra in nome:\n",
    "  print(letra)\n",
    "  if letra == 'c':\n",
    "    break"
   ]
  },
  {
   "cell_type": "code",
   "execution_count": null,
   "metadata": {},
   "outputs": [],
   "source": [
    "# Questão 07\n",
    "\n",
    "for negativo in [10, 5, 3, -7, 2, -8]:\n",
    "  if negativo < 0:\n",
    "    break\n",
    "  print(negativo)"
   ]
  },
  {
   "cell_type": "code",
   "execution_count": null,
   "metadata": {},
   "outputs": [],
   "source": [
    "# Questão 08\n",
    "\n",
    "for item in [\"java\", \"c++\", \"python\", \"javascript\", \"ruby\"]:\n",
    "  print(item)\n",
    "  if item == 'python':\n",
    "    break"
   ]
  },
  {
   "cell_type": "code",
   "execution_count": null,
   "metadata": {},
   "outputs": [],
   "source": [
    "# Questão 09\n",
    "\n",
    "for numeros in [15, 18, 25, 30, 10, 5]:\n",
    "  print(numeros)\n",
    "  if numeros > 20:\n",
    "    break"
   ]
  }
 ],
 "metadata": {
  "kernelspec": {
   "display_name": "Python 3",
   "language": "python",
   "name": "python3"
  },
  "language_info": {
   "codemirror_mode": {
    "name": "ipython",
    "version": 3
   },
   "file_extension": ".py",
   "mimetype": "text/x-python",
   "name": "python",
   "nbconvert_exporter": "python",
   "pygments_lexer": "ipython3",
   "version": "3.12.0"
  }
 },
 "nbformat": 4,
 "nbformat_minor": 2
}
