{
 "cells": [
  {
   "cell_type": "code",
   "execution_count": null,
   "metadata": {},
   "outputs": [],
   "source": [
    "# 1. Contagem regressiva; Crie um programa que pede ao usuário para inserir um número e, \n",
    "# em seguida, use um loop while para contar de volta a partir desse número até zero.\n",
    "\n",
    "num = int(input(\"Insira o número inicial:\"))\n",
    "\n",
    "while num >= 0:\n",
    "  print(num)\n",
    "  num -= 1"
   ]
  },
  {
   "cell_type": "code",
   "execution_count": null,
   "metadata": {},
   "outputs": [],
   "source": [
    "# 2. Adivinhar o número; Crie um programa que gere um número aleatório entre 1 e 100. Peça ao usuário para adivinhar o número \n",
    "# e dê dicas se o palpite for muito alto ou muito baixo. Continue pedindo ao usuário para adivinhar até que eles acertem.\n",
    "\n",
    "cont = 0\n",
    "numero = int(input(\"Insira um número para aleatoriedade: \")) # gambiarra doida\n",
    "aleatorio = (numero * 37 + 59) % 100\n",
    "tentativas = 0\n",
    "resposta = True\n",
    "\n",
    "while resposta:\n",
    "    palpite = int(input(\"Adivinhe o número entre 1 e 100: \"))\n",
    "    tentativas += 1\n",
    "\n",
    "    if palpite < aleatorio:\n",
    "        print(\"O número é maior. Tente novamente.\")\n",
    "    elif palpite > aleatorio:\n",
    "        print(\"O número é menor. Tente novamente.\")\n",
    "    else:\n",
    "        resposta = False\n",
    "        print(f\"Parabéns! Você acertou o número {aleatorio} em {tentativas} tentativas.\")\n",
    "\n",
    "# Feito sem o número aleatório é algo \"avançado\"; feito também sem break..."
   ]
  },
  {
   "cell_type": "code",
   "execution_count": null,
   "metadata": {},
   "outputs": [],
   "source": [
    "# Teste falso aleatório\n",
    "\n",
    "cont = 0\n",
    "numero = 0\n",
    "\n",
    "while cont < 10:\n",
    "  cont += 1\n",
    "  numero += 1\n",
    "  aleatorio = (numero * 37 + 59) % 100\n",
    "  print(aleatorio)"
   ]
  },
  {
   "cell_type": "code",
   "execution_count": null,
   "metadata": {},
   "outputs": [],
   "source": [
    "# 3. Fatorial; Peça ao usuário para inserir um número e, em seguida, use um loop while para calcular o fatorial desse número.\n",
    "\n",
    "cont = 1\n",
    "numero = int(input(\"Insira um número: \"))\n",
    "inicial = numero\n",
    "\n",
    "while numero > 0:\n",
    "  cont = cont*numero\n",
    "  numero -= 1\n",
    "print(f\"{inicial}! = {cont}\")"
   ]
  },
  {
   "cell_type": "code",
   "execution_count": null,
   "metadata": {},
   "outputs": [],
   "source": [
    "# 3. Fatorial; Peça ao usuário para inserir um número e, em seguida, use um loop for para calcular o fatorial desse número.\n",
    "\n",
    "inicial = int(input(\"Insira um número: \"))\n",
    "fatorial = 1\n",
    "\n",
    "for numero in range(inicial, 0, -1):\n",
    "  fatorial = fatorial*numero\n",
    "print(f\"{inicial}! = {fatorial}\")"
   ]
  },
  {
   "cell_type": "code",
   "execution_count": null,
   "metadata": {},
   "outputs": [],
   "source": [
    "# Faça um programa que apareça só os números primos até determinado número escolhido pelo usuário:\n",
    "# um número natural é primo se ele é maior que 1 e é divisível apenas por si próprio e por 1\n",
    "# ex.: 3, 5, 7, 11, 13, 17, 19, 23, 29, 31, 37\n",
    "\n",
    "cont = 0\n",
    "limite = int(input(\"Insira o número final:\"))\n",
    "\n",
    "while cont < limite:\n",
    "  cont += 1\n",
    "  print(cont)"
   ]
  },
  {
   "cell_type": "code",
   "execution_count": null,
   "metadata": {},
   "outputs": [],
   "source": [
    "limite = int(input(\"Insira o número final:\"))\n",
    "cont = 0\n",
    "\n",
    "while cont < limite:\n",
    "  if cont == 0:\n",
    "    cont = limite - 1\n",
    "    pass\n",
    "\n",
    "  if cont <= 1:\n",
    "    verif = False\n",
    "  for x in range(2, limite):\n",
    "    if cont % x == 0:\n",
    "      verif = False\n",
    "  else:\n",
    "    verif = True\n",
    "  \n",
    "  if verif == True:\n",
    "      print(f\"{cont} é um número primo.\")\n",
    "  else:\n",
    "      print(f\"{cont} não é um número primo.\")\n"
   ]
  },
  {
   "cell_type": "code",
   "execution_count": null,
   "metadata": {},
   "outputs": [],
   "source": [
    "numero = int(input(\"Digite um número: \"))\n",
    "\n",
    "if numero <= 1:\n",
    "  verif = False\n",
    "for x in range(2, numero):  # [2, 10] 2, 3, 7\n",
    "  if numero % x == 0:\n",
    "    verif = False\n",
    "else:\n",
    "  verif = True\n",
    "\n",
    "if verif == True:\n",
    "    print(f\"{numero} é um número primo.\")\n",
    "else:\n",
    "    print(f\"{numero} não é um número primo.\")"
   ]
  },
  {
   "cell_type": "code",
   "execution_count": null,
   "metadata": {},
   "outputs": [],
   "source": [
    "# Sequência de Fibonacci; Peça ao usuário para inserir um número e, em seguida, use um loop while para gerar os primeiros N termos da sequência de Fibonacci.\n",
    "numero = int(input(\"Quantos termos da sequência de Fibonacci você deseja gerar? \"))\n",
    "a, b = 0, 1\n",
    "contador = 0\n",
    "while contador < numero:\n",
    "    print(a, end=\" \")\n",
    "    a, b = b, a + b\n",
    "    contador += 1"
   ]
  }
 ],
 "metadata": {
  "kernelspec": {
   "display_name": "Python 3",
   "language": "python",
   "name": "python3"
  },
  "language_info": {
   "codemirror_mode": {
    "name": "ipython",
    "version": 3
   },
   "file_extension": ".py",
   "mimetype": "text/x-python",
   "name": "python",
   "nbconvert_exporter": "python",
   "pygments_lexer": "ipython3",
   "version": "3.12.0"
  }
 },
 "nbformat": 4,
 "nbformat_minor": 2
}
