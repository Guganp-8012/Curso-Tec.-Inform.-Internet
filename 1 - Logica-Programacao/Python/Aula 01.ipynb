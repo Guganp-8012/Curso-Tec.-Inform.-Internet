{
 "cells": [
  {
   "cell_type": "code",
   "execution_count": null,
   "metadata": {},
   "outputs": [],
   "source": [
    "# Print simples // O Python já fecha aspas e parênteses automaticamente, sendo mais prático\n",
    "# Para Python também não é necessário um comando para iniciar ou finalizar como no Portugol\n",
    "\n",
    "print(\"Olá mundo\") # print: \"imprima\", \"mostre\", \"escreva\""
   ]
  },
  {
   "cell_type": "code",
   "execution_count": null,
   "metadata": {},
   "outputs": [],
   "source": [
    "# Print simples // exemplos:\n",
    "\n",
    "x = 5 \n",
    "print(x)"
   ]
  },
  {
   "cell_type": "code",
   "execution_count": null,
   "metadata": {},
   "outputs": [],
   "source": [
    "# Variáveis // Não precisa inserir o tipo da variável, a própria linguagem vai entender o que cada variável significa e já poderá ser executada\n",
    "\n",
    "inteiro = 123               # Tipo: int = inteiro\n",
    "texto = \"Ramon Ferreira\"    # Tipo: str = string (texto/conjunto de caracteres)\n",
    "real = 10.5                 # Tipo: float = real\n",
    "boleano = True # ou \"False\" # Tipo: bool = booleano (verdadeiro e falso)"
   ]
  },
  {
   "cell_type": "code",
   "execution_count": null,
   "metadata": {},
   "outputs": [],
   "source": [
    "# Variáveis // exemplos:\n",
    "\n",
    "infinito_positivo = float('inf')\n",
    "infinito_negativo = -float('inf')"
   ]
  },
  {
   "cell_type": "code",
   "execution_count": null,
   "metadata": {},
   "outputs": [],
   "source": [
    "# Print formatado // Concatenção\n",
    "\n",
    "nome = \"Gustavo\"\n",
    "idade = 19\n",
    "print(f\"Olá {nome}, você tem {idade} anos\") # 'f + {}' é obrigatório / o programa entende o que está dentro de chaves é referido a uma variável"
   ]
  },
  {
   "cell_type": "code",
   "execution_count": null,
   "metadata": {},
   "outputs": [],
   "source": [
    "# Conversão de variáveis // função: 'type' + definição do \"tipo\"\n",
    "\n",
    "x = str(123)         # Inserindo número porém convertendo para texto\n",
    "print(type(x))       # Mostra a classe/tipo da variável (porque Python tipa automaticamente)\n",
    "y = int(\"123\")       # Inserindo texto porém convertendo para número inteiro\n",
    "print(type(y))\n",
    "z = float(\"12.3\")    # Inserindo texto porém convertendo para número racionais(fracionados)\n",
    "print(type(z))"
   ]
  },
  {
   "cell_type": "code",
   "execution_count": null,
   "metadata": {},
   "outputs": [],
   "source": [
    "# Conversão de variáveis // exemplos:\n",
    "\n",
    "x = str(123.4)\n",
    "print(x)\n",
    "print(type(x))\n",
    "print(x + 5)"
   ]
  },
  {
   "cell_type": "code",
   "execution_count": null,
   "metadata": {},
   "outputs": [],
   "source": [
    "# Cálculo matemático\n",
    "\n",
    "soma = 1 + 1\n",
    "print(soma)\n",
    "\n",
    "subtracao = 2 - 1\n",
    "print(subtracao)\n",
    "\n",
    "multiplicacao = 2 * 7\n",
    "print(multiplicacao)\n",
    "\n",
    "divisao = 10 / 3\n",
    "print(divisao)\n",
    "\n",
    "divisao_inteira = 10 // 3   # Resultado da divisão sem valores fracionados\n",
    "print(divisao_inteira)\n",
    "\n",
    "modulo = 11 % 2             # Resto da divisão\n",
    "print(modulo)\n",
    "\n",
    "exponenciacao = 2 ** 3      # 2x2x2\n",
    "print(exponenciacao)\n",
    "\n",
    "# porcentagem: 10% = 0.1 // escreva na forma decimal"
   ]
  }
 ],
 "metadata": {
  "kernelspec": {
   "display_name": "Python 3",
   "language": "python",
   "name": "python3"
  },
  "language_info": {
   "codemirror_mode": {
    "name": "ipython",
    "version": 3
   },
   "file_extension": ".py",
   "mimetype": "text/x-python",
   "name": "python",
   "nbconvert_exporter": "python",
   "pygments_lexer": "ipython3",
   "version": "3.12.0"
  }
 },
 "nbformat": 4,
 "nbformat_minor": 2
}
